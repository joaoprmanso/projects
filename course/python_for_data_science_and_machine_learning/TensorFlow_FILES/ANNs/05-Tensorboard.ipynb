{
 "cells": [
  {
   "cell_type": "markdown",
   "metadata": {},
   "source": [
    "<a href=\"https://www.pieriandata.com\"><img src=\"../Pierian_Data_Logo.PNG\"></a>\n",
    "<strong><center>Copyright by Pierian Data Inc.</center></strong> \n",
    "<strong><center>Created by Jose Marcial Portilla.</center></strong>"
   ]
  },
  {
   "cell_type": "markdown",
   "metadata": {},
   "source": [
    "# Tensorboard\n",
    "\n",
    "---\n",
    "---\n",
    "\n",
    "**NOTE: You must watch the corresponding video to understand this lecture. This notebook can't serve as a full guide. Please watch the video BEFORE posting questions to the QA forum.**\n",
    "\n",
    "---\n",
    "---\n",
    "\n",
    "Let's explore the built in data visualization capabilities that come with Tensorboard.\n",
    "\n",
    "Full official tutorial available here: https://www.tensorflow.org/tensorboard/get_started\n",
    "\n",
    "## Data"
   ]
  },
  {
   "cell_type": "code",
   "execution_count": 1,
   "metadata": {},
   "outputs": [],
   "source": [
    "import pandas as pd\n",
    "import numpy as np"
   ]
  },
  {
   "cell_type": "code",
   "execution_count": 2,
   "metadata": {},
   "outputs": [],
   "source": [
    "df = pd.read_csv('../DATA/cancer_classification.csv')"
   ]
  },
  {
   "cell_type": "markdown",
   "metadata": {},
   "source": [
    "### Train Test Split"
   ]
  },
  {
   "cell_type": "code",
   "execution_count": 3,
   "metadata": {},
   "outputs": [],
   "source": [
    "X = df.drop('benign_0__mal_1',axis=1).values\n",
    "y = df['benign_0__mal_1'].values"
   ]
  },
  {
   "cell_type": "code",
   "execution_count": 4,
   "metadata": {},
   "outputs": [],
   "source": [
    "from sklearn.model_selection import train_test_split"
   ]
  },
  {
   "cell_type": "code",
   "execution_count": 5,
   "metadata": {},
   "outputs": [],
   "source": [
    "X_train, X_test, y_train, y_test = train_test_split(X,y,test_size=0.25,random_state=101)"
   ]
  },
  {
   "cell_type": "markdown",
   "metadata": {},
   "source": [
    "\n",
    "### Scaling Data"
   ]
  },
  {
   "cell_type": "code",
   "execution_count": 6,
   "metadata": {},
   "outputs": [],
   "source": [
    "from sklearn.preprocessing import MinMaxScaler"
   ]
  },
  {
   "cell_type": "code",
   "execution_count": 7,
   "metadata": {},
   "outputs": [],
   "source": [
    "scaler = MinMaxScaler()"
   ]
  },
  {
   "cell_type": "code",
   "execution_count": 8,
   "metadata": {},
   "outputs": [
    {
     "data": {
      "text/plain": [
       "MinMaxScaler(copy=True, feature_range=(0, 1))"
      ]
     },
     "execution_count": 8,
     "metadata": {},
     "output_type": "execute_result"
    }
   ],
   "source": [
    "scaler.fit(X_train)"
   ]
  },
  {
   "cell_type": "code",
   "execution_count": 9,
   "metadata": {},
   "outputs": [],
   "source": [
    "X_train = scaler.transform(X_train)\n",
    "X_test = scaler.transform(X_test)"
   ]
  },
  {
   "cell_type": "markdown",
   "metadata": {},
   "source": [
    "## Creating the Model"
   ]
  },
  {
   "cell_type": "code",
   "execution_count": 10,
   "metadata": {},
   "outputs": [],
   "source": [
    "import tensorflow as tf\n",
    "from tensorflow.keras.models import Sequential\n",
    "from tensorflow.keras.layers import Dense, Activation,Dropout"
   ]
  },
  {
   "cell_type": "code",
   "execution_count": 11,
   "metadata": {},
   "outputs": [],
   "source": [
    "from tensorflow.keras.callbacks import EarlyStopping,TensorBoard"
   ]
  },
  {
   "cell_type": "code",
   "execution_count": 12,
   "metadata": {},
   "outputs": [],
   "source": [
    "early_stop = EarlyStopping(monitor='val_loss', mode='min', verbose=1, patience=25)"
   ]
  },
  {
   "cell_type": "code",
   "execution_count": 13,
   "metadata": {},
   "outputs": [
    {
     "data": {
      "text/plain": [
       "'/Users/joaomanso/Documents/JM/Github/projects/course/python_for_data_science_and_machine_learning/TensorFlow_FILES/ANNs'"
      ]
     },
     "execution_count": 13,
     "metadata": {},
     "output_type": "execute_result"
    }
   ],
   "source": [
    "pwd"
   ]
  },
  {
   "cell_type": "markdown",
   "metadata": {},
   "source": [
    "## Creating the Tensorboard Callback\n",
    "\n",
    "TensorBoard is a visualization tool provided with TensorFlow.\n",
    "\n",
    "This callback logs events for TensorBoard, including:\n",
    "* Metrics summary plots\n",
    "* Training graph visualization\n",
    "* Activation histograms\n",
    "* Sampled profiling\n",
    "\n",
    "If you have installed TensorFlow with pip, you should be able\n",
    "to launch TensorBoard from the command line:\n",
    "\n",
    "```sh\n",
    "tensorboard --logdir=path_to_your_logs\n",
    "```\n",
    "\n",
    "You can find more information about TensorBoard\n",
    "[here](https://www.tensorflow.org/tensorboard/).\n",
    "\n",
    "    Arguments:\n",
    "        log_dir: the path of the directory where to save the log files to be\n",
    "          parsed by TensorBoard.\n",
    "        histogram_freq: frequency (in epochs) at which to compute activation and\n",
    "          weight histograms for the layers of the model. If set to 0, histograms\n",
    "          won't be computed. Validation data (or split) must be specified for\n",
    "          histogram visualizations.\n",
    "        write_graph: whether to visualize the graph in TensorBoard. The log file\n",
    "          can become quite large when write_graph is set to True.\n",
    "        write_images: whether to write model weights to visualize as image in\n",
    "          TensorBoard.\n",
    "        update_freq: `'batch'` or `'epoch'` or integer. When using `'batch'`,\n",
    "          writes the losses and metrics to TensorBoard after each batch. The same\n",
    "          applies for `'epoch'`. If using an integer, let's say `1000`, the\n",
    "          callback will write the metrics and losses to TensorBoard every 1000\n",
    "          samples. Note that writing too frequently to TensorBoard can slow down\n",
    "          your training.\n",
    "        profile_batch: Profile the batch to sample compute characteristics. By\n",
    "          default, it will profile the second batch. Set profile_batch=0 to\n",
    "          disable profiling. Must run in TensorFlow eager mode.\n",
    "        embeddings_freq: frequency (in epochs) at which embedding layers will\n",
    "          be visualized. If set to 0, embeddings won't be visualized.\n",
    "       "
   ]
  },
  {
   "cell_type": "code",
   "execution_count": 14,
   "metadata": {},
   "outputs": [],
   "source": [
    "from datetime import datetime"
   ]
  },
  {
   "cell_type": "code",
   "execution_count": 15,
   "metadata": {},
   "outputs": [
    {
     "data": {
      "text/plain": [
       "'2020-04-25--1651'"
      ]
     },
     "execution_count": 15,
     "metadata": {},
     "output_type": "execute_result"
    }
   ],
   "source": [
    "datetime.now().strftime(\"%Y-%m-%d--%H%M\")"
   ]
  },
  {
   "cell_type": "code",
   "execution_count": 16,
   "metadata": {},
   "outputs": [],
   "source": [
    "# WINDOWS: Use \"logs\\\\fit\"\n",
    "# MACOS/LINUX: Use \"logs\\fit\"\n",
    "\n",
    "log_directory = 'logs/fit'\n",
    "\n",
    "# OPTIONAL: ADD A TIMESTAMP FOR UNIQUE FOLDER\n",
    "# timestamp = datetime.now().strftime(\"%Y-%m-%d--%H%M\")\n",
    "# log_directory = log_directory + '\\\\' + timestamp\n",
    "\n",
    "\n",
    "board = TensorBoard(log_dir=log_directory,histogram_freq=1,\n",
    "    write_graph=True,\n",
    "    write_images=True,\n",
    "    update_freq='epoch',\n",
    "    profile_batch=2,\n",
    "    embeddings_freq=1)"
   ]
  },
  {
   "cell_type": "markdown",
   "metadata": {},
   "source": [
    "Now create the model layers:"
   ]
  },
  {
   "cell_type": "code",
   "execution_count": 17,
   "metadata": {},
   "outputs": [],
   "source": [
    "model = Sequential()\n",
    "model.add(Dense(units=30,activation='relu'))\n",
    "model.add(Dropout(0.5))\n",
    "model.add(Dense(units=15,activation='relu'))\n",
    "model.add(Dropout(0.5))\n",
    "model.add(Dense(units=1,activation='sigmoid'))\n",
    "model.compile(loss='binary_crossentropy', optimizer='adam')"
   ]
  },
  {
   "cell_type": "markdown",
   "metadata": {},
   "source": [
    "## Train the Model"
   ]
  },
  {
   "cell_type": "code",
   "execution_count": 18,
   "metadata": {},
   "outputs": [
    {
     "name": "stdout",
     "output_type": "stream",
     "text": [
      "Train on 426 samples, validate on 143 samples\n",
      "Epoch 1/600\n",
      "426/426 [==============================] - 1s 2ms/sample - loss: 0.6832 - val_loss: 0.6625\n",
      "Epoch 2/600\n",
      "426/426 [==============================] - 0s 176us/sample - loss: 0.6494 - val_loss: 0.6347\n",
      "Epoch 3/600\n",
      "426/426 [==============================] - 0s 154us/sample - loss: 0.6501 - val_loss: 0.6116\n",
      "Epoch 4/600\n",
      "426/426 [==============================] - 0s 466us/sample - loss: 0.6161 - val_loss: 0.5860\n",
      "Epoch 5/600\n",
      "426/426 [==============================] - 0s 320us/sample - loss: 0.5894 - val_loss: 0.5563\n",
      "Epoch 6/600\n",
      "426/426 [==============================] - 0s 221us/sample - loss: 0.5729 - val_loss: 0.5177\n",
      "Epoch 7/600\n",
      "426/426 [==============================] - 0s 290us/sample - loss: 0.5696 - val_loss: 0.4808\n",
      "Epoch 8/600\n",
      "426/426 [==============================] - 0s 312us/sample - loss: 0.5227 - val_loss: 0.4509\n",
      "Epoch 9/600\n",
      "426/426 [==============================] - 0s 410us/sample - loss: 0.4886 - val_loss: 0.4181\n",
      "Epoch 10/600\n",
      "426/426 [==============================] - 0s 330us/sample - loss: 0.4894 - val_loss: 0.3888\n",
      "Epoch 11/600\n",
      "426/426 [==============================] - 0s 312us/sample - loss: 0.4396 - val_loss: 0.3638\n",
      "Epoch 12/600\n",
      "426/426 [==============================] - 0s 292us/sample - loss: 0.4693 - val_loss: 0.3478\n",
      "Epoch 13/600\n",
      "426/426 [==============================] - 0s 812us/sample - loss: 0.4131 - val_loss: 0.3264\n",
      "Epoch 14/600\n",
      "426/426 [==============================] - 0s 300us/sample - loss: 0.3933 - val_loss: 0.3077\n",
      "Epoch 15/600\n",
      "426/426 [==============================] - 0s 292us/sample - loss: 0.4047 - val_loss: 0.2929\n",
      "Epoch 16/600\n",
      "426/426 [==============================] - 0s 263us/sample - loss: 0.3860 - val_loss: 0.2810\n",
      "Epoch 17/600\n",
      "426/426 [==============================] - 0s 303us/sample - loss: 0.3591 - val_loss: 0.2648\n",
      "Epoch 18/600\n",
      "426/426 [==============================] - 0s 295us/sample - loss: 0.3533 - val_loss: 0.2505\n",
      "Epoch 19/600\n",
      "426/426 [==============================] - 0s 224us/sample - loss: 0.3412 - val_loss: 0.2404\n",
      "Epoch 20/600\n",
      "426/426 [==============================] - 0s 231us/sample - loss: 0.3207 - val_loss: 0.2359\n",
      "Epoch 21/600\n",
      "426/426 [==============================] - 0s 235us/sample - loss: 0.3294 - val_loss: 0.2278\n",
      "Epoch 22/600\n",
      "426/426 [==============================] - 0s 404us/sample - loss: 0.3179 - val_loss: 0.2175\n",
      "Epoch 23/600\n",
      "426/426 [==============================] - 0s 219us/sample - loss: 0.3127 - val_loss: 0.2074\n",
      "Epoch 24/600\n",
      "426/426 [==============================] - 0s 200us/sample - loss: 0.2935 - val_loss: 0.1985\n",
      "Epoch 25/600\n",
      "426/426 [==============================] - 0s 248us/sample - loss: 0.3018 - val_loss: 0.1929\n",
      "Epoch 26/600\n",
      "426/426 [==============================] - 0s 563us/sample - loss: 0.3022 - val_loss: 0.1908\n",
      "Epoch 27/600\n",
      "426/426 [==============================] - 0s 256us/sample - loss: 0.2635 - val_loss: 0.1812\n",
      "Epoch 28/600\n",
      "426/426 [==============================] - 0s 522us/sample - loss: 0.2595 - val_loss: 0.1773\n",
      "Epoch 29/600\n",
      "426/426 [==============================] - 0s 368us/sample - loss: 0.2409 - val_loss: 0.1724\n",
      "Epoch 30/600\n",
      "426/426 [==============================] - 0s 433us/sample - loss: 0.2386 - val_loss: 0.1675\n",
      "Epoch 31/600\n",
      "426/426 [==============================] - 0s 292us/sample - loss: 0.2770 - val_loss: 0.1580\n",
      "Epoch 32/600\n",
      "426/426 [==============================] - 0s 797us/sample - loss: 0.2346 - val_loss: 0.1606\n",
      "Epoch 33/600\n",
      "426/426 [==============================] - 0s 253us/sample - loss: 0.2446 - val_loss: 0.1539\n",
      "Epoch 34/600\n",
      "426/426 [==============================] - 0s 331us/sample - loss: 0.2321 - val_loss: 0.1497\n",
      "Epoch 35/600\n",
      "426/426 [==============================] - 0s 202us/sample - loss: 0.2137 - val_loss: 0.1476\n",
      "Epoch 36/600\n",
      "426/426 [==============================] - 0s 245us/sample - loss: 0.2160 - val_loss: 0.1445\n",
      "Epoch 37/600\n",
      "426/426 [==============================] - 0s 435us/sample - loss: 0.1975 - val_loss: 0.1371\n",
      "Epoch 38/600\n",
      "426/426 [==============================] - 0s 596us/sample - loss: 0.1992 - val_loss: 0.1384\n",
      "Epoch 39/600\n",
      "426/426 [==============================] - 0s 582us/sample - loss: 0.1978 - val_loss: 0.1336\n",
      "Epoch 40/600\n",
      "426/426 [==============================] - 0s 230us/sample - loss: 0.2074 - val_loss: 0.1297\n",
      "Epoch 41/600\n",
      "426/426 [==============================] - 0s 196us/sample - loss: 0.2059 - val_loss: 0.1356\n",
      "Epoch 42/600\n",
      "426/426 [==============================] - 0s 187us/sample - loss: 0.2117 - val_loss: 0.1304\n",
      "Epoch 43/600\n",
      "426/426 [==============================] - 0s 236us/sample - loss: 0.1949 - val_loss: 0.1361\n",
      "Epoch 44/600\n",
      "426/426 [==============================] - 0s 187us/sample - loss: 0.1856 - val_loss: 0.1325\n",
      "Epoch 45/600\n",
      "426/426 [==============================] - 0s 394us/sample - loss: 0.1767 - val_loss: 0.1248\n",
      "Epoch 46/600\n",
      "426/426 [==============================] - 0s 248us/sample - loss: 0.2012 - val_loss: 0.1241\n",
      "Epoch 47/600\n",
      "426/426 [==============================] - 0s 356us/sample - loss: 0.1818 - val_loss: 0.1241\n",
      "Epoch 48/600\n",
      "426/426 [==============================] - 0s 480us/sample - loss: 0.1891 - val_loss: 0.1276\n",
      "Epoch 49/600\n",
      "426/426 [==============================] - 0s 515us/sample - loss: 0.1792 - val_loss: 0.1248\n",
      "Epoch 50/600\n",
      "426/426 [==============================] - 0s 317us/sample - loss: 0.1719 - val_loss: 0.1206\n",
      "Epoch 51/600\n",
      "426/426 [==============================] - 0s 317us/sample - loss: 0.1674 - val_loss: 0.1214\n",
      "Epoch 52/600\n",
      "426/426 [==============================] - 0s 486us/sample - loss: 0.1565 - val_loss: 0.1221\n",
      "Epoch 53/600\n",
      "426/426 [==============================] - 0s 650us/sample - loss: 0.1842 - val_loss: 0.1237\n",
      "Epoch 54/600\n",
      "426/426 [==============================] - 0s 335us/sample - loss: 0.1546 - val_loss: 0.1200\n",
      "Epoch 55/600\n",
      "426/426 [==============================] - 0s 203us/sample - loss: 0.1624 - val_loss: 0.1178\n",
      "Epoch 56/600\n",
      "426/426 [==============================] - 0s 220us/sample - loss: 0.1644 - val_loss: 0.1159\n",
      "Epoch 57/600\n",
      "426/426 [==============================] - 0s 433us/sample - loss: 0.1638 - val_loss: 0.1218\n",
      "Epoch 58/600\n",
      "426/426 [==============================] - 0s 525us/sample - loss: 0.1658 - val_loss: 0.1198\n",
      "Epoch 59/600\n",
      "426/426 [==============================] - 0s 558us/sample - loss: 0.1626 - val_loss: 0.1260\n",
      "Epoch 60/600\n",
      "426/426 [==============================] - 0s 225us/sample - loss: 0.1500 - val_loss: 0.1181\n",
      "Epoch 61/600\n",
      "426/426 [==============================] - 0s 193us/sample - loss: 0.1434 - val_loss: 0.1166\n",
      "Epoch 62/600\n",
      "426/426 [==============================] - 0s 150us/sample - loss: 0.1455 - val_loss: 0.1189\n",
      "Epoch 63/600\n",
      "426/426 [==============================] - 0s 223us/sample - loss: 0.1492 - val_loss: 0.1255\n",
      "Epoch 64/600\n",
      "426/426 [==============================] - 0s 252us/sample - loss: 0.1374 - val_loss: 0.1331\n",
      "Epoch 65/600\n",
      "426/426 [==============================] - 0s 568us/sample - loss: 0.1429 - val_loss: 0.1067\n",
      "Epoch 66/600\n",
      "426/426 [==============================] - 0s 416us/sample - loss: 0.1336 - val_loss: 0.1099\n",
      "Epoch 67/600\n",
      "426/426 [==============================] - 0s 960us/sample - loss: 0.1411 - val_loss: 0.1149\n",
      "Epoch 68/600\n",
      "426/426 [==============================] - 0s 274us/sample - loss: 0.1346 - val_loss: 0.1088\n",
      "Epoch 69/600\n",
      "426/426 [==============================] - 0s 338us/sample - loss: 0.1243 - val_loss: 0.1074\n",
      "Epoch 70/600\n",
      "426/426 [==============================] - 0s 258us/sample - loss: 0.1250 - val_loss: 0.1142\n",
      "Epoch 71/600\n",
      "426/426 [==============================] - 0s 413us/sample - loss: 0.1161 - val_loss: 0.1099\n",
      "Epoch 72/600\n",
      "426/426 [==============================] - 0s 515us/sample - loss: 0.1185 - val_loss: 0.1049\n",
      "Epoch 73/600\n",
      "426/426 [==============================] - 0s 424us/sample - loss: 0.1216 - val_loss: 0.1196\n",
      "Epoch 74/600\n",
      "426/426 [==============================] - 0s 395us/sample - loss: 0.1114 - val_loss: 0.1073\n",
      "Epoch 75/600\n",
      "426/426 [==============================] - 0s 234us/sample - loss: 0.1205 - val_loss: 0.1107\n",
      "Epoch 76/600\n",
      "426/426 [==============================] - 0s 349us/sample - loss: 0.1188 - val_loss: 0.1396\n",
      "Epoch 77/600\n",
      "426/426 [==============================] - 0s 556us/sample - loss: 0.1265 - val_loss: 0.1146\n"
     ]
    },
    {
     "name": "stdout",
     "output_type": "stream",
     "text": [
      "Epoch 78/600\n",
      "426/426 [==============================] - 0s 349us/sample - loss: 0.0933 - val_loss: 0.1022\n",
      "Epoch 79/600\n",
      "426/426 [==============================] - 0s 311us/sample - loss: 0.1296 - val_loss: 0.1137\n",
      "Epoch 80/600\n",
      "426/426 [==============================] - 0s 488us/sample - loss: 0.1083 - val_loss: 0.1214\n",
      "Epoch 81/600\n",
      "426/426 [==============================] - 0s 279us/sample - loss: 0.1291 - val_loss: 0.1066\n",
      "Epoch 82/600\n",
      "426/426 [==============================] - 0s 318us/sample - loss: 0.1324 - val_loss: 0.1095\n",
      "Epoch 83/600\n",
      "426/426 [==============================] - 0s 300us/sample - loss: 0.1150 - val_loss: 0.1075\n",
      "Epoch 84/600\n",
      "426/426 [==============================] - 0s 304us/sample - loss: 0.1202 - val_loss: 0.1031\n",
      "Epoch 85/600\n",
      "426/426 [==============================] - 0s 149us/sample - loss: 0.1102 - val_loss: 0.1194\n",
      "Epoch 86/600\n",
      "426/426 [==============================] - 0s 182us/sample - loss: 0.1333 - val_loss: 0.1204\n",
      "Epoch 87/600\n",
      "426/426 [==============================] - 0s 224us/sample - loss: 0.1111 - val_loss: 0.1038\n",
      "Epoch 88/600\n",
      "426/426 [==============================] - 0s 230us/sample - loss: 0.1055 - val_loss: 0.1112\n",
      "Epoch 89/600\n",
      "426/426 [==============================] - 0s 598us/sample - loss: 0.1149 - val_loss: 0.1176\n",
      "Epoch 90/600\n",
      "426/426 [==============================] - 0s 292us/sample - loss: 0.0859 - val_loss: 0.1111\n",
      "Epoch 91/600\n",
      "426/426 [==============================] - 0s 773us/sample - loss: 0.1186 - val_loss: 0.1165\n",
      "Epoch 92/600\n",
      "426/426 [==============================] - 0s 861us/sample - loss: 0.1010 - val_loss: 0.1154\n",
      "Epoch 93/600\n",
      "426/426 [==============================] - 0s 332us/sample - loss: 0.1074 - val_loss: 0.1161\n",
      "Epoch 94/600\n",
      "426/426 [==============================] - 0s 208us/sample - loss: 0.1125 - val_loss: 0.1098\n",
      "Epoch 95/600\n",
      "426/426 [==============================] - 0s 184us/sample - loss: 0.0961 - val_loss: 0.1094\n",
      "Epoch 96/600\n",
      "426/426 [==============================] - 0s 170us/sample - loss: 0.1071 - val_loss: 0.1086\n",
      "Epoch 97/600\n",
      "426/426 [==============================] - 0s 353us/sample - loss: 0.1038 - val_loss: 0.1061\n",
      "Epoch 98/600\n",
      "426/426 [==============================] - 0s 182us/sample - loss: 0.1077 - val_loss: 0.1038\n",
      "Epoch 99/600\n",
      "426/426 [==============================] - 0s 227us/sample - loss: 0.1059 - val_loss: 0.1119\n",
      "Epoch 100/600\n",
      "426/426 [==============================] - 0s 248us/sample - loss: 0.1040 - val_loss: 0.1059\n",
      "Epoch 101/600\n",
      "426/426 [==============================] - 0s 221us/sample - loss: 0.0884 - val_loss: 0.1067\n",
      "Epoch 102/600\n",
      "426/426 [==============================] - 0s 462us/sample - loss: 0.0942 - val_loss: 0.1036\n",
      "Epoch 103/600\n",
      "426/426 [==============================] - 0s 233us/sample - loss: 0.1075 - val_loss: 0.1199\n",
      "Epoch 00103: early stopping\n"
     ]
    },
    {
     "data": {
      "text/plain": [
       "<tensorflow.python.keras.callbacks.History at 0x1a34ed3750>"
      ]
     },
     "execution_count": 18,
     "metadata": {},
     "output_type": "execute_result"
    }
   ],
   "source": [
    "model.fit(x=X_train, \n",
    "          y=y_train, \n",
    "          epochs=600,\n",
    "          validation_data=(X_test, y_test), verbose=1,\n",
    "          callbacks=[early_stop,board]\n",
    "          )"
   ]
  },
  {
   "cell_type": "markdown",
   "metadata": {},
   "source": [
    "# Running Tensorboard\n"
   ]
  },
  {
   "cell_type": "markdown",
   "metadata": {},
   "source": [
    "## Running through the Command Line\n",
    "\n",
    "**Watch video to see how to run Tensorboard through a command line call.**"
   ]
  },
  {
   "cell_type": "markdown",
   "metadata": {},
   "source": [
    "Tensorboard will run locally in your browser at [http://localhost:6006/](http://localhost:6006/)\n"
   ]
  },
  {
   "cell_type": "code",
   "execution_count": 19,
   "metadata": {},
   "outputs": [
    {
     "name": "stdout",
     "output_type": "stream",
     "text": [
      "logs/fit\n"
     ]
    }
   ],
   "source": [
    "print(log_directory)"
   ]
  },
  {
   "cell_type": "code",
   "execution_count": 20,
   "metadata": {},
   "outputs": [
    {
     "data": {
      "text/plain": [
       "'/Users/joaomanso/Documents/JM/Github/projects/course/python_for_data_science_and_machine_learning/TensorFlow_FILES/ANNs'"
      ]
     },
     "execution_count": 20,
     "metadata": {},
     "output_type": "execute_result"
    }
   ],
   "source": [
    "pwd"
   ]
  },
  {
   "cell_type": "markdown",
   "metadata": {},
   "source": [
    "### Use cd at your command line to change directory to the file path reported back by pwd or your current .py file location.\n",
    "### Then run this code at your command line or terminal"
   ]
  },
  {
   "cell_type": "code",
   "execution_count": 22,
   "metadata": {},
   "outputs": [
    {
     "ename": "SyntaxError",
     "evalue": "invalid syntax (<ipython-input-22-4dcb50e8f92b>, line 1)",
     "output_type": "error",
     "traceback": [
      "\u001b[0;36m  File \u001b[0;32m\"<ipython-input-22-4dcb50e8f92b>\"\u001b[0;36m, line \u001b[0;32m1\u001b[0m\n\u001b[0;31m    tensorboard --logdir logs/fit\u001b[0m\n\u001b[0m                            ^\u001b[0m\n\u001b[0;31mSyntaxError\u001b[0m\u001b[0;31m:\u001b[0m invalid syntax\n"
     ]
    }
   ],
   "source": [
    "tensorboard --logdir logs/fit "
   ]
  },
  {
   "cell_type": "code",
   "execution_count": null,
   "metadata": {},
   "outputs": [],
   "source": []
  }
 ],
 "metadata": {
  "kernelspec": {
   "display_name": "Python 3",
   "language": "python",
   "name": "python3"
  },
  "language_info": {
   "codemirror_mode": {
    "name": "ipython",
    "version": 3
   },
   "file_extension": ".py",
   "mimetype": "text/x-python",
   "name": "python",
   "nbconvert_exporter": "python",
   "pygments_lexer": "ipython3",
   "version": "3.7.6"
  }
 },
 "nbformat": 4,
 "nbformat_minor": 2
}
