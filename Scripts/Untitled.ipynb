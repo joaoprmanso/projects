{
 "cells": [
  {
   "cell_type": "code",
   "execution_count": 30,
   "metadata": {},
   "outputs": [],
   "source": [
    "import pandas as pd\n",
    "import re"
   ]
  },
  {
   "cell_type": "code",
   "execution_count": 63,
   "metadata": {},
   "outputs": [],
   "source": [
    "df = pd.read_excel('test_araujo.xlsx', index_col=None)"
   ]
  },
  {
   "cell_type": "code",
   "execution_count": 64,
   "metadata": {},
   "outputs": [],
   "source": [
    "text = df['text']"
   ]
  },
  {
   "cell_type": "code",
   "execution_count": 65,
   "metadata": {},
   "outputs": [],
   "source": [
    "text_sep = df['text'].apply(lambda x: re.split(r'[.!?]+', x))"
   ]
  },
  {
   "cell_type": "code",
   "execution_count": 71,
   "metadata": {},
   "outputs": [
    {
     "data": {
      "text/plain": [
       "0     [kjnekjndkejdnkejdnd,  Kjnedkjnekdjnedk,  Kjne...\n",
       "1     [kjnekjndkejdnkejdnd,  Kjnedkjnekdjnedk,  Kjne...\n",
       "2     [kjnekjndkejdnkejdnd,  Kjnedkjnekdjnedk,  Kjne...\n",
       "3     [kjnekjndkejdnkejdnd,  Kjnedkjnekdjnedk,  Kjne...\n",
       "4     [kjnekjndkejdnkejdnd,  Kjnedkjnekdjnedk,  Kjne...\n",
       "5     [kjnekjndkejdnkejdnd,  Kjnedkjnekdjnedk,  Kjne...\n",
       "6     [kjnekjndkejdnkejdnd,  Kjnedkjnekdjnedk,  Kjne...\n",
       "7     [kjnekjndkejdnkejdnd,  Kjnedkjnekdjnedk,  Kjne...\n",
       "8     [kjnekjndkejdnkejdnd,  Kjnedkjnekdjnedk,  Kjne...\n",
       "9     [kjnekjndkejdnkejdnd,  Kjnedkjnekdjnedk,  Kjne...\n",
       "10    [kjnekjndkejdnkejdnd,  Kjnedkjnekdjnedk,  Kjne...\n",
       "Name: text, dtype: object"
      ]
     },
     "execution_count": 71,
     "metadata": {},
     "output_type": "execute_result"
    }
   ],
   "source": [
    "text_sep"
   ]
  },
  {
   "cell_type": "code",
   "execution_count": null,
   "metadata": {},
   "outputs": [],
   "source": []
  }
 ],
 "metadata": {
  "kernelspec": {
   "display_name": "Python 3",
   "language": "python",
   "name": "python3"
  },
  "language_info": {
   "codemirror_mode": {
    "name": "ipython",
    "version": 3
   },
   "file_extension": ".py",
   "mimetype": "text/x-python",
   "name": "python",
   "nbconvert_exporter": "python",
   "pygments_lexer": "ipython3",
   "version": "3.7.6"
  }
 },
 "nbformat": 4,
 "nbformat_minor": 4
}
