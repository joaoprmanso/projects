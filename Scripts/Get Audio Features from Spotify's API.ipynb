{
 "cells": [
  {
   "cell_type": "markdown",
   "metadata": {},
   "source": [
    "# Get Audio Features from Spotify's Web API"
   ]
  },
  {
   "cell_type": "code",
   "execution_count": 6,
   "metadata": {},
   "outputs": [],
   "source": [
    "# Useful imports\n",
    "import spotipy # Package to retrieve the data from the Spotify Web API\n",
    "import spotipy.oauth2\n",
    "import pandas as pd\n",
    "import json"
   ]
  },
  {
   "cell_type": "markdown",
   "metadata": {},
   "source": [
    "## 1. Set-up the Spotify Web API Credentials"
   ]
  },
  {
   "cell_type": "code",
   "execution_count": 7,
   "metadata": {},
   "outputs": [],
   "source": [
    "# Save my credentials into a variable <client_id, client_secret>\n",
    "credentials = spotipy.oauth2.SpotifyClientCredentials(\"fd112ec05d9b4dbebb22542f9dd2ba6c\", \"aaeec71cda0a4af389e45ec29260ec18\")"
   ]
  },
  {
   "cell_type": "code",
   "execution_count": 8,
   "metadata": {},
   "outputs": [],
   "source": [
    "# Save the authenticator\n",
    "spotify = spotipy.Spotify(client_credentials_manager=credentials)"
   ]
  },
  {
   "cell_type": "markdown",
   "metadata": {},
   "source": [
    "## 2. Pre-processing the soundtacks data"
   ]
  },
  {
   "cell_type": "code",
   "execution_count": 9,
   "metadata": {},
   "outputs": [],
   "source": [
    "# Import the soundtracks dataset\n",
    "soundtracks = pd.read_csv(\"/Users/joaomanso/Desktop/Master Thesis/Data & ML/Data/Spotify Million Playlist/soundtrack_data.csv\")\n",
    "\n",
    "# Remove 'spotify:track:' from each track_id to retrieve the information\n",
    "tracks_id = soundtracks['track_uri'].str.replace(\"spotify:track:\", \"\")\n",
    "\n",
    "# Set up the number of observations that will be passed\n",
    "tracks_id = pd.DataFrame(tracks_id)\n",
    "\n",
    "\n",
    "# Test with fewer observations\n",
    "#tracks_id_100 = tracks_id[:100]\n",
    "#tracks_id_test = \",\".join(tracks_id_100)\n",
    "#tracks = \",\".join(tracks_id)\n"
   ]
  },
  {
   "cell_type": "code",
   "execution_count": 10,
   "metadata": {},
   "outputs": [],
   "source": [
    "# Testing with 100 features\n",
    "#audio_features_100 = spotify.audio_features(tracks_id_test)\n",
    "#audio_features_100 = pd.DataFrame(audio_features_100)\n",
    "#audio_features_100"
   ]
  },
  {
   "cell_type": "markdown",
   "metadata": {},
   "source": [
    "## 3. Accessing Audio Features"
   ]
  },
  {
   "cell_type": "code",
   "execution_count": 11,
   "metadata": {},
   "outputs": [],
   "source": [
    "# Create a nested loop to iteratively retrieve 100 observations at each time\n",
    "batchsize = 100\n",
    "audio_features = []\n",
    "\n",
    "for i in range(0,len(tracks_id['track_uri']),batchsize):\n",
    "    batch = tracks_id['track_uri'][i:i+batchsize]\n",
    "    feature_results = spotify.audio_features(batch)\n",
    "    for i, t in enumerate(feature_results):\n",
    "        if t == None:\n",
    "            None_counter = None_counter + 1\n",
    "        else:\n",
    "            audio_features.append(t)"
   ]
  },
  {
   "cell_type": "code",
   "execution_count": 59,
   "metadata": {},
   "outputs": [],
   "source": [
    "# Transform to a DataFrame\n",
    "audio_features_df = pd.DataFrame(audio_features)\n",
    "\n",
    "# Drop useless attributes\n",
    "audio_features_df = audio_features_df.drop(columns=['analysis_url', 'duration_ms', 'id', 'track_href', 'type'])\n",
    "\n",
    "# Rename the attribute uri to track_uri\n",
    "audio_features_df.columns = ['acousticness', 'danceability', 'energy', 'instrumentalness', 'key', 'liveness',\n",
    "                            'loudness', 'mode', 'speechiness', 'tempo', 'time_signature', 'track_uri', 'valence']\n",
    "\n",
    "# Save as a CSV file\n",
    "audio_features_df.to_csv(\"/Users/joaomanso/Desktop/Master Thesis/Data & ML/Data/Spotify Million Playlist/audio_features.csv\", index=False, sep=\";\")"
   ]
  },
  {
   "cell_type": "markdown",
   "metadata": {},
   "source": [
    "## 4. Merging the two datasets"
   ]
  },
  {
   "cell_type": "code",
   "execution_count": 63,
   "metadata": {},
   "outputs": [],
   "source": [
    "# Merging the 2 datasets <sountrack, audio_features>\n",
    "soundtrack_audio_features = pd.merge(audio_features_df, soundtracks, on='track_uri') "
   ]
  },
  {
   "cell_type": "code",
   "execution_count": 103,
   "metadata": {},
   "outputs": [],
   "source": [
    "# Removing all the duplicate values\n",
    "soundtrack_audio_features = soundtrack_audio_features.drop_duplicates()\n",
    "\n",
    "# Create a new and cleaned dataframe\n",
    "soundtrack_audio_features = pd.DataFrame(soundtrack_audio_features)\n",
    "\n",
    "# Save the final file to CSV\n",
    "soundtrack_audio_features.to_csv('/Users/joaomanso/Desktop/Master Thesis/Data & ML/Data/Spotify Million Playlist/soundtrack_audio_features.csv')"
   ]
  },
  {
   "cell_type": "code",
   "execution_count": 102,
   "metadata": {},
   "outputs": [
    {
     "name": "stdout",
     "output_type": "stream",
     "text": [
      "('unique playlists : ', 4000)\n",
      "('unique tracks : ', 93139)\n"
     ]
    }
   ],
   "source": [
    "unique_pid = len(soundtrack_audio_features['pid'].unique().tolist())\n",
    "unique_tracks = len(soundtrack_audio_features['track_uri'].unique().tolist())\n",
    "\n",
    "\n",
    "print('unique playlists : ' ,unique_pid)\n",
    "print('unique tracks : ' ,unique_tracks)\n"
   ]
  },
  {
   "cell_type": "code",
   "execution_count": null,
   "metadata": {},
   "outputs": [],
   "source": []
  }
 ],
 "metadata": {
  "kernelspec": {
   "display_name": "Python 2",
   "language": "python",
   "name": "python2"
  },
  "language_info": {
   "codemirror_mode": {
    "name": "ipython",
    "version": 2
   },
   "file_extension": ".py",
   "mimetype": "text/x-python",
   "name": "python",
   "nbconvert_exporter": "python",
   "pygments_lexer": "ipython2",
   "version": "2.7.14"
  }
 },
 "nbformat": 4,
 "nbformat_minor": 2
}
