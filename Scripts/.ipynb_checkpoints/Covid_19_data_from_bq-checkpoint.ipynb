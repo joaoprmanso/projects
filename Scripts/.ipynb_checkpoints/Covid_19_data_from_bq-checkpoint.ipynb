{
 "cells": [
  {
   "cell_type": "code",
   "execution_count": 24,
   "metadata": {},
   "outputs": [],
   "source": [
    "import pandas as pd\n",
    "import tqdm\n",
    "import matplotlib.pyplot as plt\n",
    "import seaborn as sns\n",
    "%matplotlib inline"
   ]
  },
  {
   "cell_type": "code",
   "execution_count": 3,
   "metadata": {},
   "outputs": [],
   "source": [
    "# write the query to get the data from Google BigQuery\n",
    "sql = \"\"\"\n",
    "SELECT\n",
    "  *\n",
    "FROM\n",
    "  `bigquery-public-data.covid19_jhu_csse.confirmed_cases`\n",
    "\"\"\""
   ]
  },
  {
   "cell_type": "code",
   "execution_count": 4,
   "metadata": {},
   "outputs": [
    {
     "name": "stderr",
     "output_type": "stream",
     "text": [
      "Downloading: 100%|█████████████████████████████████████████████████████████████████████████████████████████████████████████████████████████████████████████████████████████████████████████████████████| 259/259 [00:01<00:00, 223.65rows/s]\n"
     ]
    }
   ],
   "source": [
    "# use the method read_gbq to load the data to pandas\n",
    "df = pd.read_gbq(sql, project_id='data-science-personal',dialect='standard')"
   ]
  },
  {
   "cell_type": "code",
   "execution_count": 42,
   "metadata": {},
   "outputs": [],
   "source": [
    "# define a new dataframe with the new cases in Portugal\n",
    "new_cases_portugal = df[df['country_region'] == 'Portugal']"
   ]
  },
  {
   "cell_type": "code",
   "execution_count": 43,
   "metadata": {},
   "outputs": [
    {
     "data": {
      "text/html": [
       "<div>\n",
       "<style scoped>\n",
       "    .dataframe tbody tr th:only-of-type {\n",
       "        vertical-align: middle;\n",
       "    }\n",
       "\n",
       "    .dataframe tbody tr th {\n",
       "        vertical-align: top;\n",
       "    }\n",
       "\n",
       "    .dataframe thead th {\n",
       "        text-align: right;\n",
       "    }\n",
       "</style>\n",
       "<table border=\"1\" class=\"dataframe\">\n",
       "  <thead>\n",
       "    <tr style=\"text-align: right;\">\n",
       "      <th></th>\n",
       "      <th>province_state</th>\n",
       "      <th>country_region</th>\n",
       "      <th>latitude</th>\n",
       "      <th>longitude</th>\n",
       "      <th>location_geom</th>\n",
       "      <th>_1_22_20</th>\n",
       "      <th>_1_23_20</th>\n",
       "      <th>_1_24_20</th>\n",
       "      <th>_1_25_20</th>\n",
       "      <th>_1_26_20</th>\n",
       "      <th>...</th>\n",
       "      <th>_3_26_20</th>\n",
       "      <th>_3_27_20</th>\n",
       "      <th>_3_28_20</th>\n",
       "      <th>_3_29_20</th>\n",
       "      <th>_3_30_20</th>\n",
       "      <th>_3_31_20</th>\n",
       "      <th>_4_1_20</th>\n",
       "      <th>_4_2_20</th>\n",
       "      <th>_4_3_20</th>\n",
       "      <th>_4_4_20</th>\n",
       "    </tr>\n",
       "  </thead>\n",
       "  <tbody>\n",
       "    <tr>\n",
       "      <th>86</th>\n",
       "      <td>None</td>\n",
       "      <td>Portugal</td>\n",
       "      <td>39.3999</td>\n",
       "      <td>-8.2245</td>\n",
       "      <td>POINT(-8.2245 39.3999)</td>\n",
       "      <td>0</td>\n",
       "      <td>0</td>\n",
       "      <td>0</td>\n",
       "      <td>0</td>\n",
       "      <td>0</td>\n",
       "      <td>...</td>\n",
       "      <td>3544</td>\n",
       "      <td>4268</td>\n",
       "      <td>5170</td>\n",
       "      <td>5962</td>\n",
       "      <td>6408</td>\n",
       "      <td>7443</td>\n",
       "      <td>8251</td>\n",
       "      <td>9034</td>\n",
       "      <td>9886</td>\n",
       "      <td>10524</td>\n",
       "    </tr>\n",
       "  </tbody>\n",
       "</table>\n",
       "<p>1 rows × 79 columns</p>\n",
       "</div>"
      ],
      "text/plain": [
       "   province_state country_region  latitude  longitude           location_geom  \\\n",
       "86           None       Portugal   39.3999    -8.2245  POINT(-8.2245 39.3999)   \n",
       "\n",
       "    _1_22_20  _1_23_20  _1_24_20  _1_25_20  _1_26_20  ...  _3_26_20  _3_27_20  \\\n",
       "86         0         0         0         0         0  ...      3544      4268   \n",
       "\n",
       "    _3_28_20  _3_29_20  _3_30_20  _3_31_20  _4_1_20  _4_2_20  _4_3_20  _4_4_20  \n",
       "86      5170      5962      6408      7443     8251     9034     9886    10524  \n",
       "\n",
       "[1 rows x 79 columns]"
      ]
     },
     "execution_count": 43,
     "metadata": {},
     "output_type": "execute_result"
    }
   ],
   "source": [
    "new_cases_portugal.head()"
   ]
  },
  {
   "cell_type": "code",
   "execution_count": 16,
   "metadata": {},
   "outputs": [],
   "source": [
    "new_case_pt_transpose = new_cases_portugal.drop(labels=['province_state','country_region', 'latitude', 'longitude', 'location_geom'], axis=1).transpose()"
   ]
  },
  {
   "cell_type": "code",
   "execution_count": 46,
   "metadata": {},
   "outputs": [
    {
     "ename": "SyntaxError",
     "evalue": "unexpected EOF while parsing (<ipython-input-46-af540d27cb31>, line 3)",
     "output_type": "error",
     "traceback": [
      "\u001b[1;36m  File \u001b[1;32m\"<ipython-input-46-af540d27cb31>\"\u001b[1;36m, line \u001b[1;32m3\u001b[0m\n\u001b[1;33m    new_case_pt_transpose['days'].apply(lambda x: str(x[1]) + '/' + str(x[4:5])\u001b[0m\n\u001b[1;37m                                                                               ^\u001b[0m\n\u001b[1;31mSyntaxError\u001b[0m\u001b[1;31m:\u001b[0m unexpected EOF while parsing\n"
     ]
    }
   ],
   "source": [
    "new_case_pt_transpose.columns = ['new_cases']\n",
    "new_case_pt_transpose['days'] = new_case_pt_transpose.index"
   ]
  },
  {
   "cell_type": "code",
   "execution_count": 40,
   "metadata": {},
   "outputs": [
    {
     "data": {
      "text/plain": [
       "[<matplotlib.lines.Line2D at 0x2e7b2c38be0>]"
      ]
     },
     "execution_count": 40,
     "metadata": {},
     "output_type": "execute_result"
    },
    {
     "data": {
      "image/png": "[encoded data removed]",
      "text/plain": [
       "<Figure size 1080x432 with 1 Axes>"
      ]
     },
     "metadata": {
      "needs_background": "light"
     },
     "output_type": "display_data"
    }
   ],
   "source": [
    "fig = plt.figure(figsize=(15, 6))\n",
    "\n",
    "ax1 = fig.add_axes([0,0,1,1])\n",
    "\n",
    "ax1.plot(new_case_pt_transpose['days'], new_case_pt_transpose['new_cases'])\n",
    "\n",
    "#plt.plot(new_case_pt_transpose['days'], new_case_pt_transpose['new_cases'])\n"
   ]
  },
  {
   "cell_type": "code",
   "execution_count": null,
   "metadata": {},
   "outputs": [],
   "source": []
  }
 ],
 "metadata": {
  "kernelspec": {
   "display_name": "Python 3",
   "language": "python",
   "name": "python3"
  },
  "language_info": {
   "codemirror_mode": {
    "name": "ipython",
    "version": 3
   },
   "file_extension": ".py",
   "mimetype": "text/x-python",
   "name": "python",
   "nbconvert_exporter": "python",
   "pygments_lexer": "ipython3",
   "version": "3.8.1"
  }
 },
 "nbformat": 4,
 "nbformat_minor": 4
}
