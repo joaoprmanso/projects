{
 "cells": [
  {
   "cell_type": "code",
   "execution_count": 50,
   "metadata": {},
   "outputs": [],
   "source": [
    "import pandas as pd\n",
    "import tqdm\n",
    "import matplotlib as plt"
   ]
  },
  {
   "cell_type": "code",
   "execution_count": 51,
   "metadata": {},
   "outputs": [],
   "source": [
    "# write the query to get the data from Google BigQuery\n",
    "sql = \"\"\"\n",
    "SELECT\n",
    "  *\n",
    "FROM\n",
    "  `bigquery-public-data.covid19_jhu_csse.confirmed_cases`\n",
    "\"\"\""
   ]
  },
  {
   "cell_type": "code",
   "execution_count": 52,
   "metadata": {},
   "outputs": [
    {
     "name": "stderr",
     "output_type": "stream",
     "text": [
      "c:\\users\\joao.manso\\appdata\\local\\programs\\python\\python38\\lib\\site-packages\\google\\cloud\\bigquery\\table.py:1726: UserWarning: A progress bar was requested, but there was an error loading the tqdm library. Please install tqdm to use the progress bar functionality.\n",
      "  record_batch = self.to_arrow(\n"
     ]
    }
   ],
   "source": [
    "# use the method read_gbq to load the data to pandas\n",
    "df = pd.read_gbq(sql, project_id='data-science-personal',dialect='standard')"
   ]
  },
  {
   "cell_type": "code",
   "execution_count": 53,
   "metadata": {},
   "outputs": [],
   "source": [
    "# define a new dataframe with the new cases in Portugal\n",
    "new_cases_portugal = df[df['country_region'] == 'Portugal']"
   ]
  },
  {
   "cell_type": "code",
   "execution_count": 55,
   "metadata": {},
   "outputs": [
    {
     "data": {
      "text/html": [
       "<div>\n",
       "<style scoped>\n",
       "    .dataframe tbody tr th:only-of-type {\n",
       "        vertical-align: middle;\n",
       "    }\n",
       "\n",
       "    .dataframe tbody tr th {\n",
       "        vertical-align: top;\n",
       "    }\n",
       "\n",
       "    .dataframe thead th {\n",
       "        text-align: right;\n",
       "    }\n",
       "</style>\n",
       "<table border=\"1\" class=\"dataframe\">\n",
       "  <thead>\n",
       "    <tr style=\"text-align: right;\">\n",
       "      <th></th>\n",
       "      <th>province_state</th>\n",
       "      <th>country_region</th>\n",
       "      <th>latitude</th>\n",
       "      <th>longitude</th>\n",
       "      <th>location_geom</th>\n",
       "      <th>_1_22_20</th>\n",
       "      <th>_1_23_20</th>\n",
       "      <th>_1_24_20</th>\n",
       "      <th>_1_25_20</th>\n",
       "      <th>_1_26_20</th>\n",
       "      <th>...</th>\n",
       "      <th>_3_21_20</th>\n",
       "      <th>_3_22_20</th>\n",
       "      <th>_3_23_20</th>\n",
       "      <th>_3_24_20</th>\n",
       "      <th>_3_25_20</th>\n",
       "      <th>_3_26_20</th>\n",
       "      <th>_3_27_20</th>\n",
       "      <th>_3_28_20</th>\n",
       "      <th>_3_29_20</th>\n",
       "      <th>_3_30_20</th>\n",
       "    </tr>\n",
       "  </thead>\n",
       "  <tbody>\n",
       "    <tr>\n",
       "      <th>77</th>\n",
       "      <td>None</td>\n",
       "      <td>Portugal</td>\n",
       "      <td>39.3999</td>\n",
       "      <td>-8.2245</td>\n",
       "      <td>POINT(-8.2245 39.3999)</td>\n",
       "      <td>0</td>\n",
       "      <td>0</td>\n",
       "      <td>0</td>\n",
       "      <td>0</td>\n",
       "      <td>0</td>\n",
       "      <td>...</td>\n",
       "      <td>1280</td>\n",
       "      <td>1600</td>\n",
       "      <td>2060</td>\n",
       "      <td>2362</td>\n",
       "      <td>2995</td>\n",
       "      <td>3544</td>\n",
       "      <td>4268</td>\n",
       "      <td>5170</td>\n",
       "      <td>5962</td>\n",
       "      <td>6408</td>\n",
       "    </tr>\n",
       "  </tbody>\n",
       "</table>\n",
       "<p>1 rows × 74 columns</p>\n",
       "</div>"
      ],
      "text/plain": [
       "   province_state country_region  latitude  longitude           location_geom  \\\n",
       "77           None       Portugal   39.3999    -8.2245  POINT(-8.2245 39.3999)   \n",
       "\n",
       "    _1_22_20  _1_23_20  _1_24_20  _1_25_20  _1_26_20  ...  _3_21_20  _3_22_20  \\\n",
       "77         0         0         0         0         0  ...      1280      1600   \n",
       "\n",
       "    _3_23_20  _3_24_20  _3_25_20  _3_26_20  _3_27_20  _3_28_20  _3_29_20  \\\n",
       "77      2060      2362      2995      3544      4268      5170      5962   \n",
       "\n",
       "    _3_30_20  \n",
       "77      6408  \n",
       "\n",
       "[1 rows x 74 columns]"
      ]
     },
     "execution_count": 55,
     "metadata": {},
     "output_type": "execute_result"
    }
   ],
   "source": [
    "new_cases_portugal"
   ]
  },
  {
   "cell_type": "code",
   "execution_count": 48,
   "metadata": {},
   "outputs": [
    {
     "data": {
      "text/html": [
       "<div>\n",
       "<style scoped>\n",
       "    .dataframe tbody tr th:only-of-type {\n",
       "        vertical-align: middle;\n",
       "    }\n",
       "\n",
       "    .dataframe tbody tr th {\n",
       "        vertical-align: top;\n",
       "    }\n",
       "\n",
       "    .dataframe thead th {\n",
       "        text-align: right;\n",
       "    }\n",
       "</style>\n",
       "<table border=\"1\" class=\"dataframe\">\n",
       "  <thead>\n",
       "    <tr style=\"text-align: right;\">\n",
       "      <th></th>\n",
       "      <th>77</th>\n",
       "    </tr>\n",
       "  </thead>\n",
       "  <tbody>\n",
       "    <tr>\n",
       "      <th>province_state</th>\n",
       "      <td>None</td>\n",
       "    </tr>\n",
       "    <tr>\n",
       "      <th>country_region</th>\n",
       "      <td>Portugal</td>\n",
       "    </tr>\n",
       "    <tr>\n",
       "      <th>latitude</th>\n",
       "      <td>39.3999</td>\n",
       "    </tr>\n",
       "    <tr>\n",
       "      <th>longitude</th>\n",
       "      <td>-8.2245</td>\n",
       "    </tr>\n",
       "    <tr>\n",
       "      <th>location_geom</th>\n",
       "      <td>POINT(-8.2245 39.3999)</td>\n",
       "    </tr>\n",
       "    <tr>\n",
       "      <th>...</th>\n",
       "      <td>...</td>\n",
       "    </tr>\n",
       "    <tr>\n",
       "      <th>_3_26_20</th>\n",
       "      <td>3544</td>\n",
       "    </tr>\n",
       "    <tr>\n",
       "      <th>_3_27_20</th>\n",
       "      <td>4268</td>\n",
       "    </tr>\n",
       "    <tr>\n",
       "      <th>_3_28_20</th>\n",
       "      <td>5170</td>\n",
       "    </tr>\n",
       "    <tr>\n",
       "      <th>_3_29_20</th>\n",
       "      <td>5962</td>\n",
       "    </tr>\n",
       "    <tr>\n",
       "      <th>_3_30_20</th>\n",
       "      <td>6408</td>\n",
       "    </tr>\n",
       "  </tbody>\n",
       "</table>\n",
       "<p>74 rows × 1 columns</p>\n",
       "</div>"
      ],
      "text/plain": [
       "                                    77\n",
       "province_state                    None\n",
       "country_region                Portugal\n",
       "latitude                       39.3999\n",
       "longitude                      -8.2245\n",
       "location_geom   POINT(-8.2245 39.3999)\n",
       "...                                ...\n",
       "_3_26_20                          3544\n",
       "_3_27_20                          4268\n",
       "_3_28_20                          5170\n",
       "_3_29_20                          5962\n",
       "_3_30_20                          6408\n",
       "\n",
       "[74 rows x 1 columns]"
      ]
     },
     "execution_count": 48,
     "metadata": {},
     "output_type": "execute_result"
    }
   ],
   "source": [
    "test = ''"
   ]
  },
  {
   "cell_type": "code",
   "execution_count": null,
   "metadata": {},
   "outputs": [],
   "source": []
  }
 ],
 "metadata": {
  "kernelspec": {
   "display_name": "Python 3",
   "language": "python",
   "name": "python3"
  },
  "language_info": {
   "codemirror_mode": {
    "name": "ipython",
    "version": 3
   },
   "file_extension": ".py",
   "mimetype": "text/x-python",
   "name": "python",
   "nbconvert_exporter": "python",
   "pygments_lexer": "ipython3",
   "version": "3.8.1"
  }
 },
 "nbformat": 4,
 "nbformat_minor": 4
}
